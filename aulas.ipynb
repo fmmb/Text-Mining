{
 "cells": [
  {
   "cell_type": "markdown",
   "metadata": {},
   "source": [
    "# Text Mining\n",
    "## Fernando Batista e Ricardo Ribeiro\n",
    "Gralhas ou sugestões: `fernando.batista@iscte-iul.pt` ou `ricardo.ribeiro@iscte-iul.pt`\n",
    "\n",
    "[![Colab](https://colab.research.google.com/assets/colab-badge.svg)](https://colab.research.google.com/github/fmmb/Text-Mining/blob/main/aulas.ipynb)"
   ]
  },
  {
   "cell_type": "markdown",
   "metadata": {},
   "source": [
    "## Conteúdo\n",
    "\n",
    "1. Introdução ao Python e ao Jupyter Notebook (opcional)\n",
    "    * [Jupyter notebook e exemplos introdutórios de Python](./aulas/jupyter_notebooks.ipynb)\n",
    "    * Homework: [Introduction to Python](./aulas/01-intro-python.ipynb) and [exercises](./aulas/01-intro-python-hw.ipynb)\n",
    "    * [Leitura de ficheiros CSV](./aulas/read_csv_files.ipynb)\n",
    "    * [Download dos dados utilizados nos exemplos](./aulas/using-tm-data.ipynb)\n",
    "2. Pré-processamento com vista à representação de documentos\n",
    "    * [Tokenização](./aulas/tokenization.ipynb) - tokenização básica, tokenização com NLTK, tokenização de tweets\n",
    "    * [NLP libraries](./aulas/nlp_tm_python.ipynb) for tokenization, sentence segmentation, stemming, part-of-speech, NER and sentiment analysis\n",
    "3. Representação de documentos\n",
    "    * [Representação de documentos e cálculo de similaridade](./aulas/document_representation.ipynb)\n",
    "    * [Gensim tutorial](./aulas/gensim_corpora_and_vector_spaces.ipynb) on corpora and vector spaces \n",
    "4. Intelligent word representations\n",
    "    * [Embeddings](./aulas/embeddings.ipynb): word2vec, glove, etc\n",
    "5. Classificação\n",
    "    * [Classical models](./aulas/classification.ipynb)\n",
    "    * [BERT-based classification](./aulas/BERT_based_classification.ipynb)\n",
    "    * [Classification with Neural Networks](./aulas/nn.ipynb)\n",
    "6. Análise de Sentimento\n",
    "    * [Creating your own classifier (step by step)](./aulas/SA-features.ipynb)\n",
    "    * [Creating your own classifier (scikit-learn)](./aulas/SA-sklearn.ipynb)\n",
    "    * [Testing different approaches](./aulas/sa-strategies.ipynb)\n",
    "7. Modelação de tópicos: [exemplos com gensim](./aulas/topic_modelling.ipynb), [exemplos com scikit-learn](./aulas/topic_modeling_scikit_learn.ipynb)"
   ]
  },
  {
   "cell_type": "markdown",
   "metadata": {},
   "source": [
    "## Referências\n",
    "\n",
    "1. [Linguagem python (wikipedia)](https://en.wikipedia.org/wiki/Python_%28programming_language%29)\n",
    "\n",
    "2. [Jupyter notebook beginner's guide](http://jupyter-notebook-beginner-guide.readthedocs.org/en/latest/)"
   ]
  }
 ],
 "metadata": {
  "kernelspec": {
   "display_name": "Python 3",
   "language": "python",
   "name": "python3"
  },
  "language_info": {
   "codemirror_mode": {
    "name": "ipython",
    "version": 3
   },
   "file_extension": ".py",
   "mimetype": "text/x-python",
   "name": "python",
   "nbconvert_exporter": "python",
   "pygments_lexer": "ipython3",
   "version": "3.8.10"
  }
 },
 "nbformat": 4,
 "nbformat_minor": 4
}
